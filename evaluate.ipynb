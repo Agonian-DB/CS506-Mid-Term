{
 "cells": [
  {
   "cell_type": "code",
   "execution_count": 11,
   "id": "5dfb352a-babc-4626-91bf-21b70909c362",
   "metadata": {
    "tags": []
   },
   "outputs": [
    {
     "name": "stdout",
     "output_type": "stream",
     "text": [
      "Loading training and test data...\n",
      "Train data shape: (1697533, 9)\n",
      "Test IDs shape: (212192,)\n",
      "Filtered train data shape: (1485341, 9)\n",
      "Filtered test data shape: (212192, 9)\n",
      "Extracting TF-IDF features...\n",
      "Extracting N-grams (2-grams) features...\n",
      "Extracting numerical features...\n",
      "Saving all extracted features...\n",
      "All features and processed data have been saved successfully.\n"
     ]
    }
   ],
   "source": [
    "# Cell 1: Data Loading and Feature Extraction Based on Id\n",
    "\n",
    "import pandas as pd\n",
    "from sklearn.feature_extraction.text import TfidfVectorizer, CountVectorizer\n",
    "from sklearn.preprocessing import StandardScaler\n",
    "import scipy.sparse as sp\n",
    "import numpy as np\n",
    "\n",
    "print(\"Loading training and test data...\")\n",
    "train_data = pd.read_csv('data/train.csv')\n",
    "test_ids = pd.read_csv('data/test.csv')['Id']\n",
    "\n",
    "print(f\"Train data shape: {train_data.shape}\")\n",
    "print(f\"Test IDs shape: {test_ids.shape}\")\n",
    "\n",
    "test_data = train_data[train_data['Id'].isin(test_ids)].copy()\n",
    "train_data_with_score = train_data[~train_data['Id'].isin(test_ids)].copy()\n",
    "\n",
    "print(f\"Filtered train data shape: {train_data_with_score.shape}\")\n",
    "print(f\"Filtered test data shape: {test_data.shape}\")\n",
    "\n",
    "train_data_with_score['Text'] = train_data_with_score['Text'].fillna('').astype(str)\n",
    "train_data_with_score['Summary'] = train_data_with_score['Summary'].fillna('').astype(str)\n",
    "combined_text_train = train_data_with_score['Text'] + ' ' + train_data_with_score['Summary']\n",
    "\n",
    "test_data['Text'] = test_data['Text'].fillna('').astype(str)\n",
    "test_data['Summary'] = test_data['Summary'].fillna('').astype(str)\n",
    "combined_text_test = test_data['Text'] + ' ' + test_data['Summary']\n",
    "\n",
    "print(\"Extracting TF-IDF features...\")\n",
    "tfidf = TfidfVectorizer(max_features=5000, stop_words='english')\n",
    "train_tfidf_features = tfidf.fit_transform(combined_text_train)\n",
    "test_tfidf_features = tfidf.transform(combined_text_test)\n",
    "\n",
    "print(\"Extracting N-grams (2-grams) features...\")\n",
    "ngram_vectorizer = CountVectorizer(ngram_range=(2, 2), max_features=3000, stop_words='english')\n",
    "train_ngram_features = ngram_vectorizer.fit_transform(combined_text_train)\n",
    "test_ngram_features = ngram_vectorizer.transform(combined_text_test)\n",
    "\n",
    "print(\"Extracting numerical features...\")\n",
    "train_data_with_score['HelpfulnessRatio'] = train_data_with_score['HelpfulnessNumerator'] / (train_data_with_score['HelpfulnessDenominator'] + 1)\n",
    "train_data_with_score['ReviewYear'] = pd.to_datetime(train_data_with_score['Time'], unit='s').dt.year\n",
    "train_data_with_score['ProductReviewCount'] = train_data_with_score.groupby('ProductId')['ProductId'].transform('count')\n",
    "train_data_with_score['UserReviewCount'] = train_data_with_score.groupby('UserId')['UserId'].transform('count')\n",
    "\n",
    "test_data['HelpfulnessRatio'] = test_data['HelpfulnessNumerator'] / (test_data['HelpfulnessDenominator'] + 1)\n",
    "test_data['ReviewYear'] = pd.to_datetime(test_data['Time'], unit='s').dt.year\n",
    "test_data['ProductReviewCount'] = test_data.groupby('ProductId')['ProductId'].transform('count')\n",
    "test_data['UserReviewCount'] = test_data.groupby('UserId')['UserId'].transform('count')\n",
    "\n",
    "numerical_features_train = train_data_with_score[['HelpfulnessRatio', 'ReviewYear', 'ProductReviewCount', 'UserReviewCount']]\n",
    "numerical_features_test = test_data[['HelpfulnessRatio', 'ReviewYear', 'ProductReviewCount', 'UserReviewCount']]\n",
    "\n",
    "scaler = StandardScaler()\n",
    "numerical_features_train_scaled = scaler.fit_transform(numerical_features_train)\n",
    "numerical_features_test_scaled = scaler.transform(numerical_features_test)\n",
    "\n",
    "print(\"Saving all extracted features...\")\n",
    "sp.save_npz('data/train_tfidf.npz', train_tfidf_features)\n",
    "sp.save_npz('data/test_tfidf.npz', test_tfidf_features)\n",
    "sp.save_npz('data/train_ngram.npz', train_ngram_features)\n",
    "sp.save_npz('data/test_ngram.npz', test_ngram_features)\n",
    "\n",
    "np.save('data/train_numerical_features.npy', numerical_features_train_scaled)\n",
    "np.save('data/test_numerical_features.npy', numerical_features_test_scaled)\n",
    "\n",
    "train_data_with_score.to_csv('data/processed_train_with_features.csv', index=False)\n",
    "test_data.to_csv('data/processed_test_with_features.csv', index=False)\n",
    "\n",
    "print(\"All features and processed data have been saved successfully.\")"
   ]
  },
  {
   "cell_type": "code",
   "execution_count": 12,
   "id": "9da8c9b0-beaa-4724-a90a-e49bfc251357",
   "metadata": {
    "tags": []
   },
   "outputs": [
    {
     "name": "stdout",
     "output_type": "stream",
     "text": [
      "Loading saved features...\n",
      "Feature split completed.\n",
      "Training set shape: (1485341, 8004)\n",
      "Test set shape: (212192, 8004)\n"
     ]
    }
   ],
   "source": [
    "# Cell 2: Combine Features and Prepare for Training\n",
    "\n",
    "from scipy.sparse import hstack, csr_matrix\n",
    "\n",
    "print(\"Loading saved features...\")\n",
    "train_tfidf = sp.load_npz('data/train_tfidf.npz')\n",
    "test_tfidf = sp.load_npz('data/test_tfidf.npz')\n",
    "train_ngram = sp.load_npz('data/train_ngram.npz')\n",
    "test_ngram = sp.load_npz('data/test_ngram.npz')\n",
    "\n",
    "train_numerical = np.load('data/train_numerical_features.npy')\n",
    "test_numerical = np.load('data/test_numerical_features.npy')\n",
    "\n",
    "def combine_features(tfidf, ngram, numerical):\n",
    "    return hstack([tfidf, ngram, csr_matrix(numerical)])\n",
    "\n",
    "X_train = combine_features(train_tfidf, train_ngram, train_numerical)\n",
    "X_test = combine_features(test_tfidf, test_ngram, test_numerical)\n",
    "\n",
    "train_data_with_score = pd.read_csv('data/processed_train_with_features.csv')\n",
    "y_train = train_data_with_score['Score'].values\n",
    "\n",
    "print(\"Feature split completed.\")\n",
    "print(f\"Training set shape: {X_train.shape}\")\n",
    "print(f\"Test set shape: {X_test.shape}\")"
   ]
  },
  {
   "cell_type": "code",
   "execution_count": 16,
   "id": "a0824423-57e2-4498-8fbc-98db55618b67",
   "metadata": {
    "tags": []
   },
   "outputs": [
    {
     "name": "stdout",
     "output_type": "stream",
     "text": [
      "--- logistic_regression ---\n",
      "Validation Accuracy: 0.6646\n",
      "Precision: 0.6367\n",
      "Recall: 0.6646\n",
      "F1 Score: 0.6413\n",
      "Confusion Matrix:\n",
      "[[ 11097   2411   1282    511   2773]\n",
      " [  3366   5370   4646   1489   2733]\n",
      " [  1330   2662  13526   8688   8973]\n",
      " [   702    677   5723  23949  36076]\n",
      " [  1119    419   1998  12064 143485]]\n",
      "logistic_regression evaluation completed.\n",
      "\n"
     ]
    }
   ],
   "source": [
    "# Cell 3: Evaluate Trained Models on Validation Set\n",
    "\n",
    "from sklearn.metrics import accuracy_score, precision_score, recall_score, f1_score, confusion_matrix\n",
    "import joblib\n",
    "\n",
    "def evaluate_model(model, X_val, y_val, model_name):\n",
    "    # 预测验证集\n",
    "    y_val_pred = model.predict(X_val)\n",
    "    \n",
    "    print(f\"--- {model_name} ---\")\n",
    "    print(f\"Validation Accuracy: {accuracy_score(y_val, y_val_pred):.4f}\")\n",
    "    print(f\"Precision: {precision_score(y_val, y_val_pred, average='weighted'):.4f}\")\n",
    "    print(f\"Recall: {recall_score(y_val, y_val_pred, average='weighted'):.4f}\")\n",
    "    print(f\"F1 Score: {f1_score(y_val, y_val_pred, average='weighted'):.4f}\")\n",
    "    print(\"Confusion Matrix:\")\n",
    "    print(confusion_matrix(y_val, y_val_pred))\n",
    "    print(f\"{model_name} evaluation completed.\\n\")\n",
    "\n",
    "train_data_with_score = pd.read_csv('data/processed_train_with_features.csv')\n",
    "y_train = train_data_with_score['Score'].values\n",
    "\n",
    "from sklearn.model_selection import train_test_split\n",
    "X_train_split, X_val_split, y_train_split, y_val_split = train_test_split(X_train, y_train, test_size=0.2, random_state=42)\n",
    "\n",
    "\n",
    "# Naive Bayes\n",
    "# nb_model = joblib.load('models/naive_bayes.joblib')\n",
    "# evaluate_model(nb_model, X_val_split, y_val_split, 'naive_bayes')\n",
    "\n",
    "# Linear Regression\n",
    "lr_model = joblib.load('models/logistic_regression.joblib')\n",
    "evaluate_model(lr_model, X_val_split, y_val_split, 'logistic_regression')\n",
    "\n",
    "# Random Forest\n",
    "# rf_model = joblib.load('models/random_forest.joblib')\n",
    "# evaluate_model(rf_model, X_val_split, y_val_split, 'random_forest')"
   ]
  },
  {
   "cell_type": "code",
   "execution_count": 17,
   "id": "68ec782d-b1f5-45b4-b390-46c87832cc84",
   "metadata": {
    "tags": []
   },
   "outputs": [
    {
     "name": "stdout",
     "output_type": "stream",
     "text": [
      "Making predictions on test data...\n",
      "Submission file saved as 'submission.csv'.\n"
     ]
    }
   ],
   "source": [
    "# Cell 4: Predict on Test Data and Generate Submission File\n",
    "\n",
    "import pandas as pd\n",
    "import joblib\n",
    "\n",
    "X_test = combine_features(test_tfidf, test_ngram, test_numerical)\n",
    "best_model = joblib.load('models/logistic_regression.joblib')\n",
    "print(\"Making predictions on test data...\")\n",
    "test_predictions = best_model.predict(X_test)\n",
    "test_data = pd.read_csv('data/test.csv')\n",
    "submission = pd.DataFrame({\n",
    "    'Id': test_data['Id'],\n",
    "    'Score': test_predictions\n",
    "})\n",
    "\n",
    "submission = submission.sort_values('Id')\n",
    "submission.to_csv('submission.csv', index=False)\n",
    "print(\"Submission file saved as 'submission.csv'.\")"
   ]
  },
  {
   "cell_type": "code",
   "execution_count": null,
   "id": "659bea4a-68c8-45f2-8842-bc24566d51d5",
   "metadata": {},
   "outputs": [],
   "source": []
  }
 ],
 "metadata": {
  "kernelspec": {
   "display_name": "Python 3 (ipykernel)",
   "language": "python",
   "name": "python3"
  },
  "language_info": {
   "codemirror_mode": {
    "name": "ipython",
    "version": 3
   },
   "file_extension": ".py",
   "mimetype": "text/x-python",
   "name": "python",
   "nbconvert_exporter": "python",
   "pygments_lexer": "ipython3",
   "version": "3.12.4"
  }
 },
 "nbformat": 4,
 "nbformat_minor": 5
}
